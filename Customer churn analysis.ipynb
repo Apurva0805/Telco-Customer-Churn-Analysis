{
  "metadata": {
    "kernelspec": {
      "name": "python",
      "display_name": "Python (Pyodide)",
      "language": "python"
    },
    "language_info": {
      "codemirror_mode": {
        "name": "python",
        "version": 3
      },
      "file_extension": ".py",
      "mimetype": "text/x-python",
      "name": "python",
      "nbconvert_exporter": "python",
      "pygments_lexer": "ipython3",
      "version": "3.8"
    }
  },
  "nbformat_minor": 5,
  "nbformat": 4,
  "cells": [
    {
      "id": "ffdf8529-1d54-41a1-97b0-5be8c29d9c0a",
      "cell_type": "code",
      "source": "import pandas as pd",
      "metadata": {
        "trusted": true
      },
      "outputs": [],
      "execution_count": 1
    },
    {
      "id": "3d41166d-5a9c-4720-a13a-76aaf4b62dc0",
      "cell_type": "code",
      "source": "#Load .csv\ndf = pd.read_csv('WA_Fn-UseC_-Telco-Customer-Churn (1).csv')",
      "metadata": {
        "trusted": true
      },
      "outputs": [],
      "execution_count": 2
    },
    {
      "id": "761c5622-0c56-4a14-9b19-f491d9549e11",
      "cell_type": "code",
      "source": "df.head()",
      "metadata": {
        "trusted": true
      },
      "outputs": [
        {
          "execution_count": 20,
          "output_type": "execute_result",
          "data": {
            "text/plain": "   customerID  gender SeniorCitizen Partner Dependents  tenure PhoneService  \\\n0  7590-VHVEG  Female           NaN     Yes         No       1           No   \n1  5575-GNVDE    Male           NaN      No         No      34          Yes   \n2  3668-QPYBK    Male           NaN      No         No       2          Yes   \n3  7795-CFOCW    Male           NaN      No         No      45           No   \n4  9237-HQITU  Female           NaN      No         No       2          Yes   \n\n      MultipleLines InternetService OnlineSecurity  ... TechSupport  \\\n0  No phone service             DSL             No  ...          No   \n1                No             DSL            Yes  ...          No   \n2                No             DSL            Yes  ...          No   \n3  No phone service             DSL            Yes  ...         Yes   \n4                No     Fiber optic             No  ...          No   \n\n  StreamingTV StreamingMovies        Contract PaperlessBilling  \\\n0          No              No  Month-to-month              Yes   \n1          No              No        One year               No   \n2          No              No  Month-to-month              Yes   \n3          No              No        One year               No   \n4          No              No  Month-to-month              Yes   \n\n               PaymentMethod MonthlyCharges TotalCharges  Churn  tenure_group  \n0           Electronic check          29.85        29.85     No          0-12  \n1               Mailed check          56.95      1889.50     No         25-48  \n2               Mailed check          53.85       108.15    Yes          0-12  \n3  Bank transfer (automatic)          42.30      1840.75     No         25-48  \n4           Electronic check          70.70       151.65    Yes          0-12  \n\n[5 rows x 22 columns]",
            "text/html": "<div>\n<style scoped>\n    .dataframe tbody tr th:only-of-type {\n        vertical-align: middle;\n    }\n\n    .dataframe tbody tr th {\n        vertical-align: top;\n    }\n\n    .dataframe thead th {\n        text-align: right;\n    }\n</style>\n<table border=\"1\" class=\"dataframe\">\n  <thead>\n    <tr style=\"text-align: right;\">\n      <th></th>\n      <th>customerID</th>\n      <th>gender</th>\n      <th>SeniorCitizen</th>\n      <th>Partner</th>\n      <th>Dependents</th>\n      <th>tenure</th>\n      <th>PhoneService</th>\n      <th>MultipleLines</th>\n      <th>InternetService</th>\n      <th>OnlineSecurity</th>\n      <th>...</th>\n      <th>TechSupport</th>\n      <th>StreamingTV</th>\n      <th>StreamingMovies</th>\n      <th>Contract</th>\n      <th>PaperlessBilling</th>\n      <th>PaymentMethod</th>\n      <th>MonthlyCharges</th>\n      <th>TotalCharges</th>\n      <th>Churn</th>\n      <th>tenure_group</th>\n    </tr>\n  </thead>\n  <tbody>\n    <tr>\n      <th>0</th>\n      <td>7590-VHVEG</td>\n      <td>Female</td>\n      <td>NaN</td>\n      <td>Yes</td>\n      <td>No</td>\n      <td>1</td>\n      <td>No</td>\n      <td>No phone service</td>\n      <td>DSL</td>\n      <td>No</td>\n      <td>...</td>\n      <td>No</td>\n      <td>No</td>\n      <td>No</td>\n      <td>Month-to-month</td>\n      <td>Yes</td>\n      <td>Electronic check</td>\n      <td>29.85</td>\n      <td>29.85</td>\n      <td>No</td>\n      <td>0-12</td>\n    </tr>\n    <tr>\n      <th>1</th>\n      <td>5575-GNVDE</td>\n      <td>Male</td>\n      <td>NaN</td>\n      <td>No</td>\n      <td>No</td>\n      <td>34</td>\n      <td>Yes</td>\n      <td>No</td>\n      <td>DSL</td>\n      <td>Yes</td>\n      <td>...</td>\n      <td>No</td>\n      <td>No</td>\n      <td>No</td>\n      <td>One year</td>\n      <td>No</td>\n      <td>Mailed check</td>\n      <td>56.95</td>\n      <td>1889.50</td>\n      <td>No</td>\n      <td>25-48</td>\n    </tr>\n    <tr>\n      <th>2</th>\n      <td>3668-QPYBK</td>\n      <td>Male</td>\n      <td>NaN</td>\n      <td>No</td>\n      <td>No</td>\n      <td>2</td>\n      <td>Yes</td>\n      <td>No</td>\n      <td>DSL</td>\n      <td>Yes</td>\n      <td>...</td>\n      <td>No</td>\n      <td>No</td>\n      <td>No</td>\n      <td>Month-to-month</td>\n      <td>Yes</td>\n      <td>Mailed check</td>\n      <td>53.85</td>\n      <td>108.15</td>\n      <td>Yes</td>\n      <td>0-12</td>\n    </tr>\n    <tr>\n      <th>3</th>\n      <td>7795-CFOCW</td>\n      <td>Male</td>\n      <td>NaN</td>\n      <td>No</td>\n      <td>No</td>\n      <td>45</td>\n      <td>No</td>\n      <td>No phone service</td>\n      <td>DSL</td>\n      <td>Yes</td>\n      <td>...</td>\n      <td>Yes</td>\n      <td>No</td>\n      <td>No</td>\n      <td>One year</td>\n      <td>No</td>\n      <td>Bank transfer (automatic)</td>\n      <td>42.30</td>\n      <td>1840.75</td>\n      <td>No</td>\n      <td>25-48</td>\n    </tr>\n    <tr>\n      <th>4</th>\n      <td>9237-HQITU</td>\n      <td>Female</td>\n      <td>NaN</td>\n      <td>No</td>\n      <td>No</td>\n      <td>2</td>\n      <td>Yes</td>\n      <td>No</td>\n      <td>Fiber optic</td>\n      <td>No</td>\n      <td>...</td>\n      <td>No</td>\n      <td>No</td>\n      <td>No</td>\n      <td>Month-to-month</td>\n      <td>Yes</td>\n      <td>Electronic check</td>\n      <td>70.70</td>\n      <td>151.65</td>\n      <td>Yes</td>\n      <td>0-12</td>\n    </tr>\n  </tbody>\n</table>\n<p>5 rows × 22 columns</p>\n</div>"
          },
          "metadata": {}
        }
      ],
      "execution_count": 20
    },
    {
      "id": "ddea976a-7491-4efc-84bb-c3bfcd5e2546",
      "cell_type": "code",
      "source": "df.info()",
      "metadata": {
        "trusted": true
      },
      "outputs": [
        {
          "name": "stdout",
          "output_type": "stream",
          "text": "<class 'pandas.core.frame.DataFrame'>\nRangeIndex: 7043 entries, 0 to 7042\nData columns (total 21 columns):\n #   Column            Non-Null Count  Dtype  \n---  ------            --------------  -----  \n 0   customerID        7043 non-null   object \n 1   gender            7043 non-null   object \n 2   SeniorCitizen     7043 non-null   int64  \n 3   Partner           7043 non-null   object \n 4   Dependents        7043 non-null   object \n 5   tenure            7043 non-null   int64  \n 6   PhoneService      7043 non-null   object \n 7   MultipleLines     7043 non-null   object \n 8   InternetService   7043 non-null   object \n 9   OnlineSecurity    7043 non-null   object \n 10  OnlineBackup      7043 non-null   object \n 11  DeviceProtection  7043 non-null   object \n 12  TechSupport       7043 non-null   object \n 13  StreamingTV       7043 non-null   object \n 14  StreamingMovies   7043 non-null   object \n 15  Contract          7043 non-null   object \n 16  PaperlessBilling  7043 non-null   object \n 17  PaymentMethod     7043 non-null   object \n 18  MonthlyCharges    7043 non-null   float64\n 19  TotalCharges      7043 non-null   object \n 20  Churn             7043 non-null   object \ndtypes: float64(1), int64(2), object(18)\nmemory usage: 660.4+ KB\n"
        }
      ],
      "execution_count": 4
    },
    {
      "id": "dd3a183a-c289-416b-a4bd-1a29ea12fef7",
      "cell_type": "code",
      "source": "df.describe()",
      "metadata": {
        "trusted": true
      },
      "outputs": [
        {
          "execution_count": 5,
          "output_type": "execute_result",
          "data": {
            "text/plain": "       SeniorCitizen       tenure  MonthlyCharges\ncount    7043.000000  7043.000000     7043.000000\nmean        0.162147    32.371149       64.761692\nstd         0.368612    24.559481       30.090047\nmin         0.000000     0.000000       18.250000\n25%         0.000000     9.000000       35.500000\n50%         0.000000    29.000000       70.350000\n75%         0.000000    55.000000       89.850000\nmax         1.000000    72.000000      118.750000",
            "text/html": "<div>\n<style scoped>\n    .dataframe tbody tr th:only-of-type {\n        vertical-align: middle;\n    }\n\n    .dataframe tbody tr th {\n        vertical-align: top;\n    }\n\n    .dataframe thead th {\n        text-align: right;\n    }\n</style>\n<table border=\"1\" class=\"dataframe\">\n  <thead>\n    <tr style=\"text-align: right;\">\n      <th></th>\n      <th>SeniorCitizen</th>\n      <th>tenure</th>\n      <th>MonthlyCharges</th>\n    </tr>\n  </thead>\n  <tbody>\n    <tr>\n      <th>count</th>\n      <td>7043.000000</td>\n      <td>7043.000000</td>\n      <td>7043.000000</td>\n    </tr>\n    <tr>\n      <th>mean</th>\n      <td>0.162147</td>\n      <td>32.371149</td>\n      <td>64.761692</td>\n    </tr>\n    <tr>\n      <th>std</th>\n      <td>0.368612</td>\n      <td>24.559481</td>\n      <td>30.090047</td>\n    </tr>\n    <tr>\n      <th>min</th>\n      <td>0.000000</td>\n      <td>0.000000</td>\n      <td>18.250000</td>\n    </tr>\n    <tr>\n      <th>25%</th>\n      <td>0.000000</td>\n      <td>9.000000</td>\n      <td>35.500000</td>\n    </tr>\n    <tr>\n      <th>50%</th>\n      <td>0.000000</td>\n      <td>29.000000</td>\n      <td>70.350000</td>\n    </tr>\n    <tr>\n      <th>75%</th>\n      <td>0.000000</td>\n      <td>55.000000</td>\n      <td>89.850000</td>\n    </tr>\n    <tr>\n      <th>max</th>\n      <td>1.000000</td>\n      <td>72.000000</td>\n      <td>118.750000</td>\n    </tr>\n  </tbody>\n</table>\n</div>"
          },
          "metadata": {}
        }
      ],
      "execution_count": 5
    },
    {
      "id": "fa6b3882-14e5-43f0-85f5-68acc6656a78",
      "cell_type": "code",
      "source": "df.shape",
      "metadata": {
        "trusted": true
      },
      "outputs": [
        {
          "execution_count": 6,
          "output_type": "execute_result",
          "data": {
            "text/plain": "(7043, 21)"
          },
          "metadata": {}
        }
      ],
      "execution_count": 6
    },
    {
      "id": "5866b1b4-c9c3-458e-8eb1-d7c5b305dcc2",
      "cell_type": "code",
      "source": "#checking missing values\ndf.isnull().sum()",
      "metadata": {
        "trusted": true
      },
      "outputs": [
        {
          "execution_count": 7,
          "output_type": "execute_result",
          "data": {
            "text/plain": "customerID          0\ngender              0\nSeniorCitizen       0\nPartner             0\nDependents          0\ntenure              0\nPhoneService        0\nMultipleLines       0\nInternetService     0\nOnlineSecurity      0\nOnlineBackup        0\nDeviceProtection    0\nTechSupport         0\nStreamingTV         0\nStreamingMovies     0\nContract            0\nPaperlessBilling    0\nPaymentMethod       0\nMonthlyCharges      0\nTotalCharges        0\nChurn               0\ndtype: int64"
          },
          "metadata": {}
        }
      ],
      "execution_count": 7
    },
    {
      "id": "8184428a-5fd4-4ad1-8573-fc861fd52abc",
      "cell_type": "code",
      "source": "# Convert 'TotalCharges' to numeric\ndf['TotalCharges'] = pd.to_numeric(df['TotalCharges'], errors='coerce')",
      "metadata": {
        "trusted": true
      },
      "outputs": [],
      "execution_count": 10
    },
    {
      "id": "0d753db1-8b00-4489-bbf0-317e48bdcf7a",
      "cell_type": "code",
      "source": "#Fill missing 'TotalCharges' with median\ndf['TotalCharges'] = df['TotalCharges'].fillna(df['TotalCharges'].median())\n",
      "metadata": {
        "trusted": true
      },
      "outputs": [],
      "execution_count": 16
    },
    {
      "id": "0ea6d4dd-dd0d-4c65-9ff7-f7ea30a5607a",
      "cell_type": "code",
      "source": "# Convert SeniorCitizen from 0/1 to 'No'/'Yes'\ndf['SeniorCitizen']=df['SeniorCitizen'].map({'0': 'NO','1':'Yes'})",
      "metadata": {
        "trusted": true
      },
      "outputs": [],
      "execution_count": 18
    },
    {
      "id": "abbd64cb-d6d9-49ca-8a9e-36ccdd428333",
      "cell_type": "code",
      "source": "#Create tenure_group column\nbins = [0, 12, 24, 48, 60, 72]\nlabels = ['0-12', '13-24', '25-48', '49-60', '61-72']\n\ndf['tenure_group'] = pd.cut(df['tenure'], bins=bins, labels=labels)\n",
      "metadata": {
        "trusted": true
      },
      "outputs": [],
      "execution_count": 19
    },
    {
      "id": "53c9602e-4a9b-4c75-8ba6-413e70649d7e",
      "cell_type": "code",
      "source": "# Churn % overall\ndf['Churn'].value_counts(normalize = True) * 100",
      "metadata": {
        "trusted": true
      },
      "outputs": [
        {
          "execution_count": 22,
          "output_type": "execute_result",
          "data": {
            "text/plain": "Churn\nNo     73.463013\nYes    26.536987\nName: proportion, dtype: float64"
          },
          "metadata": {}
        }
      ],
      "execution_count": 22
    },
    {
      "id": "cc2ab33e-94fd-4a2d-83b9-b36b33b57c64",
      "cell_type": "code",
      "source": "# By Contract\ndf.groupby('Contract')['Churn'].value_counts(normalize = True)",
      "metadata": {
        "trusted": true
      },
      "outputs": [
        {
          "execution_count": 25,
          "output_type": "execute_result",
          "data": {
            "text/plain": "Contract        Churn\nMonth-to-month  No       0.572903\n                Yes      0.427097\nOne year        No       0.887305\n                Yes      0.112695\nTwo year        No       0.971681\n                Yes      0.028319\nName: proportion, dtype: float64"
          },
          "metadata": {}
        }
      ],
      "execution_count": 25
    },
    {
      "id": "7180e43b-cdd1-4747-aa5c-e16f2fc8b6e4",
      "cell_type": "code",
      "source": "# By SeniorCitizen\ndf.groupby('SeniorCitizen')['Churn'].value_counts(normalize = True)",
      "metadata": {
        "trusted": true
      },
      "outputs": [
        {
          "execution_count": 26,
          "output_type": "execute_result",
          "data": {
            "text/plain": "Series([], Name: proportion, dtype: float64)"
          },
          "metadata": {}
        }
      ],
      "execution_count": 26
    },
    {
      "id": "32d3c8e3-2bef-4371-8ca9-4f985e34c3ee",
      "cell_type": "code",
      "source": "# Avg Monthly Charges by Churn\ndf.groupby('Churn')['MonthlyCharges'].mean()",
      "metadata": {
        "trusted": true
      },
      "outputs": [
        {
          "execution_count": 27,
          "output_type": "execute_result",
          "data": {
            "text/plain": "Churn\nNo     61.265124\nYes    74.441332\nName: MonthlyCharges, dtype: float64"
          },
          "metadata": {}
        }
      ],
      "execution_count": 27
    },
    {
      "id": "17d72763-c5a7-435f-bdb4-b79370e25b68",
      "cell_type": "code",
      "source": "# Churn by tenure group\ndf.groupby('tenure_group', observed=True)['Churn'].value_counts(normalize=True)",
      "metadata": {
        "trusted": true
      },
      "outputs": [
        {
          "execution_count": 29,
          "output_type": "execute_result",
          "data": {
            "text/plain": "tenure_group  Churn\n0-12          No       0.523218\n              Yes      0.476782\n13-24         No       0.712891\n              Yes      0.287109\n25-48         No       0.796110\n              Yes      0.203890\n49-60         No       0.855769\n              Yes      0.144231\n61-72         No       0.933902\n              Yes      0.066098\nName: proportion, dtype: float64"
          },
          "metadata": {}
        }
      ],
      "execution_count": 29
    },
    {
      "id": "030b62e2-3f8b-4445-9463-98d7a9d8c035",
      "cell_type": "code",
      "source": "df.to_csv(\"cleaned_customer_churn.csv\", index=False)",
      "metadata": {
        "trusted": true
      },
      "outputs": [],
      "execution_count": 30
    },
    {
      "id": "6e651524-ed56-430b-aa63-a18231d1fe4c",
      "cell_type": "code",
      "source": "",
      "metadata": {
        "trusted": true
      },
      "outputs": [],
      "execution_count": null
    }
  ]
}